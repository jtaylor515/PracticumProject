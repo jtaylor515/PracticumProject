{
 "cells": [
  {
   "cell_type": "code",
   "execution_count": 4,
   "metadata": {},
   "outputs": [],
   "source": [
    "import pandas as pd \n",
    "\n",
    "# Replace 'your_file.json' with the actual filename of your JSON data\n",
    "filename = '/Users/jeffreytaylor/Documents/Emory/CS370/PracticumProject/Data/yelp_dataset/yelp_academic_dataset_business.json'\n",
    "\n",
    "# Read the JSON data into a pandas DataFrame\n",
    "df = pd.read_json(filename, lines=True)\n",
    "\n",
    "df2 = pd.read_csv('/Users/jeffreytaylor/Documents/Emory/CS370/PracticumProject/Data/yelp_dataset/business.csv')"
   ]
  },
  {
   "cell_type": "code",
   "execution_count": 6,
   "metadata": {},
   "outputs": [
    {
     "name": "stdout",
     "output_type": "stream",
     "text": [
      "                business_id                             name  \\\n",
      "0    Pns2l4eNsfO8kk83dixA6A         Abby Rappoport, LAC, CMQ   \n",
      "26   noByYNtDLQAra9ccqxdfDw                              H&M   \n",
      "85   IDtLPgUrqorrpqSLdfMhZQ             Helena Avenue Bakery   \n",
      "91   nUqrF-h9S7myCcvNDecOvw             Iron Horse Auto Body   \n",
      "120  bYjnX_J1bHZob10DoSFkqQ      Tinkle Belle Diaper Service   \n",
      "141  SZU9c8V2GuREDN5KgyHFJw  Santa Barbara Shellfish Company   \n",
      "170  QZU7TcrztBb3tXaPbVCkXg                          805 Ink   \n",
      "219  25Uww0C0wvF9CZ_3B6vWtA               Enjoy The Mountain   \n",
      "227  xF9r1XbMvEOsJeHlmFhIvw        Weddings in Santa Barbara   \n",
      "401  4xhGQGdGqU60BIznBjqnuA     California Tacos and Taproom   \n",
      "\n",
      "                       address           city state postal_code   latitude  \\\n",
      "0       1616 Chapala St, Ste 2  Santa Barbara    CA       93101  34.426679   \n",
      "26            827-833 State St  Santa Barbara    CA       93101  34.420209   \n",
      "85       131 Anacapa St, Ste C  Santa Barbara    CA       93101  34.414445   \n",
      "91              825 Cacique St  Santa Barbara    CA       93103  34.419620   \n",
      "120                             Santa Barbara    CA       93101  34.420334   \n",
      "141          230 Stearns Wharf  Santa Barbara    CA       93101  34.408715   \n",
      "170              1228 State St  Santa Barbara    CA       93101  34.424130   \n",
      "219                1 Garden St  Santa Barbara    CA       93105  34.414342   \n",
      "227       263 Santa Monica Way  Santa Barbara    CA       93109  34.398298   \n",
      "401  956 Embarcadero Del Norte     Isla Vista    CA       93117  34.411555   \n",
      "\n",
      "      longitude  stars  review_count  is_open  \\\n",
      "0   -119.711197    5.0             7        0   \n",
      "26  -119.700460    3.0            24        1   \n",
      "85  -119.690672    4.0           389        1   \n",
      "91  -119.677032    4.5            32        1   \n",
      "120 -119.710749    5.0            17        1   \n",
      "141 -119.685019    4.0          2404        1   \n",
      "170 -119.705321    4.5            68        1   \n",
      "219 -119.687332    4.5            48        1   \n",
      "227 -119.725931    5.0            13        1   \n",
      "401 -119.855077    4.0            49        0   \n",
      "\n",
      "                                            attributes  \\\n",
      "0                        {'ByAppointmentOnly': 'True'}   \n",
      "26   {'BusinessAcceptsCreditCards': 'True', 'BikePa...   \n",
      "85   {'RestaurantsTakeOut': 'True', 'NoiseLevel': '...   \n",
      "91   {'BusinessAcceptsCreditCards': 'True', 'WiFi':...   \n",
      "120  {'BusinessAcceptsCreditCards': 'True', 'ByAppo...   \n",
      "141  {'OutdoorSeating': 'True', 'RestaurantsAttire'...   \n",
      "170  {'RestaurantsPriceRange2': '2', 'BusinessAccep...   \n",
      "219  {'WheelchairAccessible': 'True', 'BikeParking'...   \n",
      "227            {'BusinessAcceptsCreditCards': 'False'}   \n",
      "401  {'Music': '{'dj': False, 'background_music': F...   \n",
      "\n",
      "                                            categories  \\\n",
      "0    Doctors, Traditional Chinese Medicine, Naturop...   \n",
      "26   Women's Clothing, Accessories, Children's Clot...   \n",
      "85   Food, Restaurants, Salad, Coffee & Tea, Breakf...   \n",
      "91                      Towing, Automotive, Body Shops   \n",
      "120  Parenting Classes, Maternity Wear, Fashion, Ed...   \n",
      "141  Live/Raw Food, Restaurants, Seafood, Beer Bar,...   \n",
      "170                              Beauty & Spas, Tattoo   \n",
      "219  Motorcycle Rental, Tours, Hiking, Mountain Bik...   \n",
      "227  Professional Services, Officiants, Event Plann...   \n",
      "401  Mexican, Beer Bar, Bars, Sports Bars, Nightlif...   \n",
      "\n",
      "                                                 hours  \n",
      "0                                                 None  \n",
      "26   {'Monday': '11:0-18:0', 'Tuesday': '11:0-18:0'...  \n",
      "85   {'Monday': '0:0-0:0', 'Tuesday': '8:0-14:0', '...  \n",
      "91   {'Monday': '0:0-0:0', 'Tuesday': '8:0-17:0', '...  \n",
      "120  {'Monday': '0:0-0:0', 'Tuesday': '10:0-18:0', ...  \n",
      "141  {'Monday': '0:0-0:0', 'Tuesday': '11:0-21:0', ...  \n",
      "170  {'Monday': '12:0-20:0', 'Tuesday': '12:0-20:0'...  \n",
      "219  {'Monday': '9:0-17:0', 'Tuesday': '9:0-17:0', ...  \n",
      "227  {'Monday': '6:0-23:30', 'Tuesday': '6:0-23:30'...  \n",
      "401  {'Monday': '0:0-0:0', 'Tuesday': '10:0-22:0', ...  \n"
     ]
    }
   ],
   "source": [
    "filtered_df = df[df['state'] == 'CA'].head(10)\n",
    "print(filtered_df)\n"
   ]
  }
 ],
 "metadata": {
  "kernelspec": {
   "display_name": "hw1",
   "language": "python",
   "name": "python3"
  },
  "language_info": {
   "codemirror_mode": {
    "name": "ipython",
    "version": 3
   },
   "file_extension": ".py",
   "mimetype": "text/x-python",
   "name": "python",
   "nbconvert_exporter": "python",
   "pygments_lexer": "ipython3",
   "version": "3.11.4"
  }
 },
 "nbformat": 4,
 "nbformat_minor": 2
}
