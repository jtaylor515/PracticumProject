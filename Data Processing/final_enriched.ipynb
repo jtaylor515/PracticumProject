{
 "cells": [
  {
   "cell_type": "code",
   "execution_count": null,
   "metadata": {},
   "outputs": [],
   "source": [
    "import pandas as pd\n",
    "import numpy as np\n",
    "from openai import OpenAI\n",
    "import json\n",
    "import csv\n",
    "\n",
    "# Load the data\n",
    "reviews = pd.read_csv('philly_reviews_1.csv')\n",
    "\n",
    "# Prompt\n",
    "system_prompt = \"You are a restaurant review annotator. Categorize the following text so I can evaluate the restaurant accurately. Then for each category give the restaurant a score from 1-5, 1 being bad and 5 being excellent for their performance in each category. Include every single dish mentioned in the review with a score. Return the output in JSON format like {\\\"Service\\\": score, \\\"Pizza\\\": score}.\""
   ]
  },
  {
   "cell_type": "code",
   "execution_count": null,
   "metadata": {},
   "outputs": [],
   "source": [
    "client = OpenAI()\n",
    "annotated_reviews = {}\n",
    "\n",
    "# Iterate through the reviews and annotate them\n",
    "for idx, review in reviews.iterrows():\n",
    "    response = client.chat.completions.create(\n",
    "        model=\"gpt-3.5-turbo\",\n",
    "        messages=[\n",
    "            {\"role\": \"system\", \"content\": system_prompt},\n",
    "            {\"role\": \"user\", \"content\": review['text']},\n",
    "        ],\n",
    "        max_tokens=256\n",
    "    )\n",
    "\n",
    "    enriched = response.choices[0].message.content.removeprefix('```json').removesuffix('```').strip()\n",
    "        \n",
    "    try:\n",
    "        enriched = json.loads(enriched)\n",
    "\n",
    "    except:\n",
    "        print(f'Error parsing JSON: {idx}')\n",
    "        continue\n",
    "        \n",
    "    annotated_reviews[review['review_id']] = enriched\n",
    "\n",
    "# Save annotated reviews as JSON    \n",
    "with open(f'annotated_reviews_1_final.json', 'w') as f:\n",
    "    json.dump(annotated_reviews, f)"
   ]
  },
  {
   "cell_type": "code",
   "execution_count": null,
   "metadata": {},
   "outputs": [],
   "source": [
    "# read json file and convert to csv\n",
    "df = pd.read_json('annotated_reviews_1_final.json', lines=True)\n",
    "df = df.T.reset_index()\n",
    "df.columns = ['review_id', 'annotated']  # rename columns\n",
    "df['annotated'] = df['annotated'].apply(json.dumps)\n",
    "df.to_csv('enriched_final_1.csv', index=False, quoting=csv.QUOTE_ALL)  # double quote the nested content\n",
    "\n",
    "final = pd.read_csv('enriched_final_1.csv', quoting=csv.QUOTE_ALL)  # read the csv file"
   ]
  },
  {
   "cell_type": "code",
   "execution_count": null,
   "metadata": {},
   "outputs": [],
   "source": [
    "# combine annotated_reviews_1_final.csv and annotated_reviews_2_final.csv\n",
    "df = pd.read_json('annotated_reviews_2_final.json', lines=True)\n",
    "df = df.T.reset_index()\n",
    "df.columns = ['review_id', 'annotated']  # rename columns\n",
    "df['annotated'] = df['annotated'].apply(json.dumps)\n",
    "df.to_csv('enriched_final_2.csv', index=False, quoting=csv.QUOTE_ALL)  # double quote the nested content"
   ]
  },
  {
   "cell_type": "code",
   "execution_count": null,
   "metadata": {},
   "outputs": [],
   "source": [
    "final_2 = pd.read_csv('enriched_final_2.csv', quoting=csv.QUOTE_ALL)  # read the csv file\n",
    "final = pd.concat([final, final_2], ignore_index=True)  # combine the two dataframes\n",
    "final.to_csv('enriched_final.csv', quoting=csv.QUOTE_ALL)  # save the combined dataframe as csv"
   ]
  },
  {
   "cell_type": "code",
   "execution_count": null,
   "metadata": {},
   "outputs": [],
   "source": [
    "# Combine the json files too\n",
    "enriched_json = []\n",
    "json_files = ['annotated_reviews_1_final.json', 'annotated_reviews_2_final.json']\n",
    "for file in json_files:\n",
    "    with open(file, 'r') as f:\n",
    "        enriched_json.append(json.load(f))\n",
    "\n",
    "with open('enriched_final.json', 'w') as f:\n",
    "    json.dump(enriched_json, f)"
   ]
  }
 ],
 "metadata": {
  "kernelspec": {
   "display_name": "base",
   "language": "python",
   "name": "python3"
  },
  "language_info": {
   "codemirror_mode": {
    "name": "ipython",
    "version": 3
   },
   "file_extension": ".py",
   "mimetype": "text/x-python",
   "name": "python",
   "nbconvert_exporter": "python",
   "pygments_lexer": "ipython3",
   "version": "3.11.4"
  }
 },
 "nbformat": 4,
 "nbformat_minor": 2
}
