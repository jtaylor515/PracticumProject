{
 "cells": [
  {
   "cell_type": "code",
   "execution_count": 1,
   "metadata": {},
   "outputs": [],
   "source": [
    "# pip install -U spacy\n",
    "# python -m spacy download en_core_web_sm\n",
    "# %pip install openai\n",
    "\n",
    "import pandas as pd\n",
    "import numpy as np\n",
    "from openai import OpenAI\n",
    "import json\n",
    "from collections import OrderedDict\n",
    "import time"
   ]
  },
  {
   "cell_type": "code",
   "execution_count": 2,
   "metadata": {},
   "outputs": [],
   "source": [
    "philly_reviews = pd.read_csv('philadelphia_restaurant_reviews_sampled(in).csv')\n",
    "# for testing purposes: \n",
    "philly_reviews = philly_reviews.head(1)"
   ]
  },
  {
   "cell_type": "code",
   "execution_count": 4,
   "metadata": {},
   "outputs": [],
   "source": [
    "client = OpenAI()\n",
    "\n",
    "annotated_reviews = []\n",
    "\n",
    "start = time.time()\n",
    "for idx, review in philly_reviews.iterrows():\n",
    "    response = client.chat.completions.create(\n",
    "        model=\"gpt-3.5-turbo\",\n",
    "        messages=[\n",
    "            {\"role\": \"system\", \"content\": \"You are a restaurant review annotator. Categorize the following text so I can evaluate the restaurant accurately. Then for each category give the restaurant a score from 1-5, 1 being bad and 5 being excellent for their performance in each category. Include every single dish mentioned in the review. Return the output in three column JSON format with category and score.\"},\n",
    "            {\"role\": \"user\", \"content\": review['text']},\n",
    "        ],\n",
    "        max_tokens=256\n",
    "    )\n",
    "\n",
    "    enriched = response.choices[0].message.content.removeprefix('```json').removesuffix('```').strip()\n",
    "    \n",
    "    try:\n",
    "        enriched = json.loads(enriched)\n",
    "    except:\n",
    "        print('Error parsing JSON')\n",
    "        print(enriched)\n",
    "        enriched = pd.NA\n",
    "        continue\n",
    "    \n",
    "    annotated_reviews.append(enriched)\n",
    "\n",
    "tot_time = time.time() - start\n",
    "print(tot_time)\n",
    "  \n",
    "philly_reviews['review_scores'] = annotated_reviews\n"
   ]
  }
 ],
 "metadata": {
  "kernelspec": {
   "display_name": "Python 3",
   "language": "python",
   "name": "python3"
  },
  "language_info": {
   "codemirror_mode": {
    "name": "ipython",
    "version": 3
   },
   "file_extension": ".py",
   "mimetype": "text/x-python",
   "name": "python",
   "nbconvert_exporter": "python",
   "pygments_lexer": "ipython3",
   "version": "3.11.4"
  }
 },
 "nbformat": 4,
 "nbformat_minor": 2
}
