{
 "cells": [
  {
   "cell_type": "code",
   "execution_count": 4,
   "metadata": {},
   "outputs": [],
   "source": [
    "# pip install -U spacy\n",
    "# python -m spacy download en_core_web_sm\n",
    "# %pip install openai\n",
    "\n",
    "import pandas as pd\n",
    "import numpy as np\n",
    "from openai import OpenAI\n",
    "import json\n",
    "from collections import OrderedDict"
   ]
  },
  {
   "cell_type": "code",
   "execution_count": 2,
   "metadata": {},
   "outputs": [],
   "source": [
    "philly_reviews = pd.read_csv('philadelphia_restaurant_reviews_sampled(in).csv')"
   ]
  },
  {
   "cell_type": "code",
   "execution_count": 3,
   "metadata": {},
   "outputs": [
    {
     "name": "stderr",
     "output_type": "stream",
     "text": [
      "\n",
      "KeyboardInterrupt\n",
      "\n"
     ]
    }
   ],
   "source": [
    "client = OpenAI()\n",
    "\n",
    "annotated_reviews = OrderedDict()\n",
    "\n",
    "for review in philly_reviews:\n",
    "    response = client.chat.completions.create(\n",
    "        model=\"gpt-3.5-turbo\",\n",
    "        messages=[\n",
    "            {\"role\": \"system\", \"content\": \"You are a restaurant review annotator. Categorize the following text so I can evaluate the restaurant accurately. Then for each category give the restaurant a score from 1-5, 1 being bad and 5 being excellent for their performance in each category. Include every single dish mentioned in the review. Return the output in three column JSON format with category and score.\"},\n",
    "            {\"role\": \"user\", \"content\": review['text']},\n",
    "        ],\n",
    "        max_tokens=256\n",
    "    )\n",
    "    enriched = response['choices'][0]['message']['content']\n",
    "    \n",
    "    try:\n",
    "        enriched = json.loads(enriched)\n",
    "    except:\n",
    "        print('Error parsing JSON')\n",
    "        print(enriched)\n",
    "        continue\n",
    "    \n",
    "    if review['business_id'] not in annotated_reviews:\n",
    "        annotated_reviews[review['business_id']] = OrderedDict()\n",
    "    annotated_reviews[review['business_id']][review['review_id']] = enriched \n",
    "\n",
    "# TODO: Save annotated_reviews to a file\n",
    "# with open('annotated_reviews.json', 'w') as f:\n",
    "#     json.dump(annotated_reviews, f)\n",
    "\n",
    "# TODO: Aggregate annotated_reviews to get average scores for each category and business"
   ]
  }
 ],
 "metadata": {
  "kernelspec": {
   "display_name": "Python 3",
   "language": "python",
   "name": "python3"
  },
  "language_info": {
   "codemirror_mode": {
    "name": "ipython",
    "version": 3
   },
   "file_extension": ".py",
   "mimetype": "text/x-python",
   "name": "python",
   "nbconvert_exporter": "python",
   "pygments_lexer": "ipython3",
   "version": "3.11.4"
  }
 },
 "nbformat": 4,
 "nbformat_minor": 2
}
